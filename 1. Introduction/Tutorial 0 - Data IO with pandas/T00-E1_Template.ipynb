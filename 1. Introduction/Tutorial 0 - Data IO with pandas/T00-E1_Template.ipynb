{
 "cells": [
  {
   "cell_type": "markdown",
   "metadata": {},
   "source": [
    "### Oktoberfest Beer Data\n",
    "\n",
    "MLA for BA @TClement"
   ]
  },
  {
   "cell_type": "code",
   "execution_count": 112,
   "metadata": {},
   "outputs": [],
   "source": [
    "# Imports\n",
    "import pandas as pd\n",
    "import matplotlib.pyplot as plt"
   ]
  },
  {
   "cell_type": "markdown",
   "metadata": {},
   "source": [
    "a) Read the data from *visitors.csv* into a pandas dataframe."
   ]
  },
  {
   "cell_type": "code",
   "execution_count": 113,
   "metadata": {},
   "outputs": [],
   "source": [
    "df = pd.read_csv('visitors.csv')"
   ]
  },
  {
   "cell_type": "markdown",
   "metadata": {},
   "source": [
    "b) Take a look at the dataframe's column names. Display the ten top columns of the dataframes."
   ]
  },
  {
   "cell_type": "code",
   "execution_count": 114,
   "metadata": {},
   "outputs": [
    {
     "data": {
      "text/html": [
       "<div>\n",
       "<style scoped>\n",
       "    .dataframe tbody tr th:only-of-type {\n",
       "        vertical-align: middle;\n",
       "    }\n",
       "\n",
       "    .dataframe tbody tr th {\n",
       "        vertical-align: top;\n",
       "    }\n",
       "\n",
       "    .dataframe thead th {\n",
       "        text-align: right;\n",
       "    }\n",
       "</style>\n",
       "<table border=\"1\" class=\"dataframe\">\n",
       "  <thead>\n",
       "    <tr style=\"text-align: right;\">\n",
       "      <th></th>\n",
       "      <th>Year</th>\n",
       "      <th>Visitors (million)</th>\n",
       "      <th>Beer consumption (million liters)</th>\n",
       "    </tr>\n",
       "  </thead>\n",
       "  <tbody>\n",
       "    <tr>\n",
       "      <th>0</th>\n",
       "      <td>2024</td>\n",
       "      <td>6.7</td>\n",
       "      <td>7.0</td>\n",
       "    </tr>\n",
       "    <tr>\n",
       "      <th>1</th>\n",
       "      <td>2023</td>\n",
       "      <td>7.2</td>\n",
       "      <td>7.2</td>\n",
       "    </tr>\n",
       "    <tr>\n",
       "      <th>2</th>\n",
       "      <td>2022</td>\n",
       "      <td>5.7</td>\n",
       "      <td>5.6</td>\n",
       "    </tr>\n",
       "    <tr>\n",
       "      <th>3</th>\n",
       "      <td>2019</td>\n",
       "      <td>6.3</td>\n",
       "      <td>7.3</td>\n",
       "    </tr>\n",
       "    <tr>\n",
       "      <th>4</th>\n",
       "      <td>2018</td>\n",
       "      <td>6.3</td>\n",
       "      <td>7.5</td>\n",
       "    </tr>\n",
       "    <tr>\n",
       "      <th>5</th>\n",
       "      <td>2017</td>\n",
       "      <td>6.2</td>\n",
       "      <td>7.5</td>\n",
       "    </tr>\n",
       "    <tr>\n",
       "      <th>6</th>\n",
       "      <td>2016</td>\n",
       "      <td>5.6</td>\n",
       "      <td>6.6</td>\n",
       "    </tr>\n",
       "    <tr>\n",
       "      <th>7</th>\n",
       "      <td>2015</td>\n",
       "      <td>5.9</td>\n",
       "      <td>7.3</td>\n",
       "    </tr>\n",
       "    <tr>\n",
       "      <th>8</th>\n",
       "      <td>2014</td>\n",
       "      <td>6.3</td>\n",
       "      <td>7.7</td>\n",
       "    </tr>\n",
       "    <tr>\n",
       "      <th>9</th>\n",
       "      <td>2013</td>\n",
       "      <td>6.4</td>\n",
       "      <td>6.7</td>\n",
       "    </tr>\n",
       "  </tbody>\n",
       "</table>\n",
       "</div>"
      ],
      "text/plain": [
       "   Year  Visitors (million)  Beer consumption (million liters)\n",
       "0  2024                 6.7                                7.0\n",
       "1  2023                 7.2                                7.2\n",
       "2  2022                 5.7                                5.6\n",
       "3  2019                 6.3                                7.3\n",
       "4  2018                 6.3                                7.5\n",
       "5  2017                 6.2                                7.5\n",
       "6  2016                 5.6                                6.6\n",
       "7  2015                 5.9                                7.3\n",
       "8  2014                 6.3                                7.7\n",
       "9  2013                 6.4                                6.7"
      ]
     },
     "execution_count": 114,
     "metadata": {},
     "output_type": "execute_result"
    }
   ],
   "source": [
    "df.iloc[:10,:]"
   ]
  },
  {
   "cell_type": "markdown",
   "metadata": {},
   "source": [
    "c) Select and display only the column of visitors (... only the fith row of your dataframe)."
   ]
  },
  {
   "cell_type": "code",
   "execution_count": 115,
   "metadata": {},
   "outputs": [
    {
     "data": {
      "text/plain": [
       "0     6.7\n",
       "1     7.2\n",
       "2     5.7\n",
       "3     6.3\n",
       "4     6.3\n",
       "5     6.2\n",
       "6     5.6\n",
       "7     5.9\n",
       "8     6.3\n",
       "9     6.4\n",
       "10    6.4\n",
       "11    6.9\n",
       "12    6.4\n",
       "13    5.7\n",
       "14    6.0\n",
       "15    6.2\n",
       "16    6.5\n",
       "17    6.1\n",
       "18    5.9\n",
       "19    6.3\n",
       "20    5.9\n",
       "21    5.5\n",
       "22    6.9\n",
       "23    6.5\n",
       "24    6.5\n",
       "25    6.4\n",
       "26    6.9\n",
       "27    6.7\n",
       "28    6.6\n",
       "29    6.5\n",
       "30    5.9\n",
       "31    6.4\n",
       "32    6.7\n",
       "33    6.2\n",
       "34    5.7\n",
       "35    6.5\n",
       "36    6.7\n",
       "37    7.1\n",
       "38    7.0\n",
       "39    6.6\n",
       "40    5.8\n",
       "41    6.2\n",
       "42    5.1\n",
       "Name: Visitors (million), dtype: float64"
      ]
     },
     "execution_count": 115,
     "metadata": {},
     "output_type": "execute_result"
    }
   ],
   "source": [
    "df['Visitors (million)']"
   ]
  },
  {
   "cell_type": "code",
   "execution_count": 116,
   "metadata": {},
   "outputs": [
    {
     "data": {
      "text/plain": [
       "Year                                 2018.0\n",
       "Visitors (million)                      6.3\n",
       "Beer consumption (million liters)       7.5\n",
       "Name: 4, dtype: float64"
      ]
     },
     "execution_count": 116,
     "metadata": {},
     "output_type": "execute_result"
    }
   ],
   "source": [
    "df.iloc[4,:]"
   ]
  },
  {
   "cell_type": "markdown",
   "metadata": {},
   "source": [
    "d) How many visitors were there in 1995?"
   ]
  },
  {
   "cell_type": "code",
   "execution_count": 117,
   "metadata": {},
   "outputs": [
    {
     "data": {
      "text/html": [
       "<div>\n",
       "<style scoped>\n",
       "    .dataframe tbody tr th:only-of-type {\n",
       "        vertical-align: middle;\n",
       "    }\n",
       "\n",
       "    .dataframe tbody tr th {\n",
       "        vertical-align: top;\n",
       "    }\n",
       "\n",
       "    .dataframe thead th {\n",
       "        text-align: right;\n",
       "    }\n",
       "</style>\n",
       "<table border=\"1\" class=\"dataframe\">\n",
       "  <thead>\n",
       "    <tr style=\"text-align: right;\">\n",
       "      <th></th>\n",
       "      <th>Year</th>\n",
       "      <th>Visitors (million)</th>\n",
       "      <th>Beer consumption (million liters)</th>\n",
       "    </tr>\n",
       "  </thead>\n",
       "  <tbody>\n",
       "    <tr>\n",
       "      <th>27</th>\n",
       "      <td>1995</td>\n",
       "      <td>6.7</td>\n",
       "      <td>5.02</td>\n",
       "    </tr>\n",
       "  </tbody>\n",
       "</table>\n",
       "</div>"
      ],
      "text/plain": [
       "    Year  Visitors (million)  Beer consumption (million liters)\n",
       "27  1995                 6.7                               5.02"
      ]
     },
     "execution_count": 117,
     "metadata": {},
     "output_type": "execute_result"
    }
   ],
   "source": [
    "df[df[\"Year\"]==1995]"
   ]
  },
  {
   "cell_type": "markdown",
   "metadata": {},
   "source": [
    "e) What is the value range of the attribute \"Beer consumption (million liters)\"?"
   ]
  },
  {
   "cell_type": "code",
   "execution_count": 118,
   "metadata": {},
   "outputs": [
    {
     "data": {
      "text/plain": [
       "27    5.02\n",
       "Name: Beer consumption (million liters), dtype: float64"
      ]
     },
     "execution_count": 118,
     "metadata": {},
     "output_type": "execute_result"
    }
   ],
   "source": [
    "df[df[\"Year\"]==1995][\"Beer consumption (million liters)\"]"
   ]
  },
  {
   "cell_type": "markdown",
   "metadata": {},
   "source": [
    "f) What was the year with the greatest beer consumption? How much beer was consumed?"
   ]
  },
  {
   "cell_type": "code",
   "execution_count": 119,
   "metadata": {},
   "outputs": [
    {
     "data": {
      "text/html": [
       "<div>\n",
       "<style scoped>\n",
       "    .dataframe tbody tr th:only-of-type {\n",
       "        vertical-align: middle;\n",
       "    }\n",
       "\n",
       "    .dataframe tbody tr th {\n",
       "        vertical-align: top;\n",
       "    }\n",
       "\n",
       "    .dataframe thead th {\n",
       "        text-align: right;\n",
       "    }\n",
       "</style>\n",
       "<table border=\"1\" class=\"dataframe\">\n",
       "  <thead>\n",
       "    <tr style=\"text-align: right;\">\n",
       "      <th></th>\n",
       "      <th>Year</th>\n",
       "      <th>Visitors (million)</th>\n",
       "      <th>Beer consumption (million liters)</th>\n",
       "    </tr>\n",
       "  </thead>\n",
       "  <tbody>\n",
       "    <tr>\n",
       "      <th>8</th>\n",
       "      <td>2014</td>\n",
       "      <td>6.3</td>\n",
       "      <td>7.7</td>\n",
       "    </tr>\n",
       "  </tbody>\n",
       "</table>\n",
       "</div>"
      ],
      "text/plain": [
       "   Year  Visitors (million)  Beer consumption (million liters)\n",
       "8  2014                 6.3                                7.7"
      ]
     },
     "execution_count": 119,
     "metadata": {},
     "output_type": "execute_result"
    }
   ],
   "source": [
    "df[df[\"Beer consumption (million liters)\"]==df[\"Beer consumption (million liters)\"].max()][:]"
   ]
  },
  {
   "cell_type": "markdown",
   "metadata": {},
   "source": [
    "the greatest year for beer consumption was in 2014 with 7.7 million liters of beers"
   ]
  },
  {
   "cell_type": "markdown",
   "metadata": {},
   "source": [
    "g) Plot the beer consumption over the years. Turn on the grid of your plot."
   ]
  },
  {
   "cell_type": "code",
   "execution_count": 120,
   "metadata": {},
   "outputs": [
    {
     "data": {
      "text/plain": [
       "<Axes: xlabel='Year'>"
      ]
     },
     "execution_count": 120,
     "metadata": {},
     "output_type": "execute_result"
    },
    {
     "data": {
      "image/png": "[encoded data removed]",
      "text/plain": [
       "<Figure size 640x480 with 1 Axes>"
      ]
     },
     "metadata": {},
     "output_type": "display_data"
    }
   ],
   "source": [
    "df.plot(x='Year', y='Beer consumption (million liters)', kind='line', grid=True)\n"
   ]
  },
  {
   "cell_type": "markdown",
   "metadata": {},
   "source": [
    "h) Compute the correlation matrix of the dataframe. Which conclusions can you draw?"
   ]
  },
  {
   "cell_type": "code",
   "execution_count": 121,
   "metadata": {},
   "outputs": [
    {
     "data": {
      "text/html": [
       "<div>\n",
       "<style scoped>\n",
       "    .dataframe tbody tr th:only-of-type {\n",
       "        vertical-align: middle;\n",
       "    }\n",
       "\n",
       "    .dataframe tbody tr th {\n",
       "        vertical-align: top;\n",
       "    }\n",
       "\n",
       "    .dataframe thead th {\n",
       "        text-align: right;\n",
       "    }\n",
       "</style>\n",
       "<table border=\"1\" class=\"dataframe\">\n",
       "  <thead>\n",
       "    <tr style=\"text-align: right;\">\n",
       "      <th></th>\n",
       "      <th>Year</th>\n",
       "      <th>Visitors (million)</th>\n",
       "      <th>Beer consumption (million liters)</th>\n",
       "    </tr>\n",
       "  </thead>\n",
       "  <tbody>\n",
       "    <tr>\n",
       "      <th>Year</th>\n",
       "      <td>1.000000</td>\n",
       "      <td>-0.029103</td>\n",
       "      <td>0.869266</td>\n",
       "    </tr>\n",
       "    <tr>\n",
       "      <th>Visitors (million)</th>\n",
       "      <td>-0.029103</td>\n",
       "      <td>1.000000</td>\n",
       "      <td>0.188244</td>\n",
       "    </tr>\n",
       "    <tr>\n",
       "      <th>Beer consumption (million liters)</th>\n",
       "      <td>0.869266</td>\n",
       "      <td>0.188244</td>\n",
       "      <td>1.000000</td>\n",
       "    </tr>\n",
       "  </tbody>\n",
       "</table>\n",
       "</div>"
      ],
      "text/plain": [
       "                                       Year  Visitors (million)  \\\n",
       "Year                               1.000000           -0.029103   \n",
       "Visitors (million)                -0.029103            1.000000   \n",
       "Beer consumption (million liters)  0.869266            0.188244   \n",
       "\n",
       "                                   Beer consumption (million liters)  \n",
       "Year                                                        0.869266  \n",
       "Visitors (million)                                          0.188244  \n",
       "Beer consumption (million liters)                           1.000000  "
      ]
     },
     "execution_count": 121,
     "metadata": {},
     "output_type": "execute_result"
    }
   ],
   "source": [
    "df.corr()"
   ]
  },
  {
   "cell_type": "markdown",
   "metadata": {},
   "source": [
    "i) Load the data from *beer_price.csv* into a second dataframe. Then merge the two dataframes based on the year with an outer join.  \n",
    "Observe which values you get for years that are not listed in some of the data sets."
   ]
  },
  {
   "cell_type": "code",
   "execution_count": 122,
   "metadata": {},
   "outputs": [
    {
     "data": {
      "text/html": [
       "<div>\n",
       "<style scoped>\n",
       "    .dataframe tbody tr th:only-of-type {\n",
       "        vertical-align: middle;\n",
       "    }\n",
       "\n",
       "    .dataframe tbody tr th {\n",
       "        vertical-align: top;\n",
       "    }\n",
       "\n",
       "    .dataframe thead th {\n",
       "        text-align: right;\n",
       "    }\n",
       "</style>\n",
       "<table border=\"1\" class=\"dataframe\">\n",
       "  <thead>\n",
       "    <tr style=\"text-align: right;\">\n",
       "      <th></th>\n",
       "      <th>Year</th>\n",
       "      <th>Visitors (million)</th>\n",
       "      <th>Beer consumption (million liters)</th>\n",
       "      <th>Min price</th>\n",
       "      <th>Max price</th>\n",
       "    </tr>\n",
       "  </thead>\n",
       "  <tbody>\n",
       "    <tr>\n",
       "      <th>0</th>\n",
       "      <td>2024</td>\n",
       "      <td>6.7</td>\n",
       "      <td>7.00</td>\n",
       "      <td>13.60</td>\n",
       "      <td>15.30</td>\n",
       "    </tr>\n",
       "    <tr>\n",
       "      <th>1</th>\n",
       "      <td>2023</td>\n",
       "      <td>7.2</td>\n",
       "      <td>7.20</td>\n",
       "      <td>12.60</td>\n",
       "      <td>14.90</td>\n",
       "    </tr>\n",
       "    <tr>\n",
       "      <th>2</th>\n",
       "      <td>2022</td>\n",
       "      <td>5.7</td>\n",
       "      <td>5.60</td>\n",
       "      <td>12.60</td>\n",
       "      <td>13.80</td>\n",
       "    </tr>\n",
       "    <tr>\n",
       "      <th>3</th>\n",
       "      <td>2019</td>\n",
       "      <td>6.3</td>\n",
       "      <td>7.30</td>\n",
       "      <td>10.80</td>\n",
       "      <td>11.80</td>\n",
       "    </tr>\n",
       "    <tr>\n",
       "      <th>4</th>\n",
       "      <td>2018</td>\n",
       "      <td>6.3</td>\n",
       "      <td>7.50</td>\n",
       "      <td>10.70</td>\n",
       "      <td>11.50</td>\n",
       "    </tr>\n",
       "    <tr>\n",
       "      <th>5</th>\n",
       "      <td>2017</td>\n",
       "      <td>6.2</td>\n",
       "      <td>7.50</td>\n",
       "      <td>10.60</td>\n",
       "      <td>10.95</td>\n",
       "    </tr>\n",
       "    <tr>\n",
       "      <th>6</th>\n",
       "      <td>2016</td>\n",
       "      <td>5.6</td>\n",
       "      <td>6.60</td>\n",
       "      <td>10.40</td>\n",
       "      <td>10.70</td>\n",
       "    </tr>\n",
       "    <tr>\n",
       "      <th>7</th>\n",
       "      <td>2015</td>\n",
       "      <td>5.9</td>\n",
       "      <td>7.30</td>\n",
       "      <td>10.10</td>\n",
       "      <td>10.35</td>\n",
       "    </tr>\n",
       "    <tr>\n",
       "      <th>8</th>\n",
       "      <td>2014</td>\n",
       "      <td>6.3</td>\n",
       "      <td>7.70</td>\n",
       "      <td>9.70</td>\n",
       "      <td>10.10</td>\n",
       "    </tr>\n",
       "    <tr>\n",
       "      <th>9</th>\n",
       "      <td>2013</td>\n",
       "      <td>6.4</td>\n",
       "      <td>6.70</td>\n",
       "      <td>9.40</td>\n",
       "      <td>9.85</td>\n",
       "    </tr>\n",
       "    <tr>\n",
       "      <th>10</th>\n",
       "      <td>2012</td>\n",
       "      <td>6.4</td>\n",
       "      <td>7.40</td>\n",
       "      <td>9.10</td>\n",
       "      <td>9.50</td>\n",
       "    </tr>\n",
       "    <tr>\n",
       "      <th>11</th>\n",
       "      <td>2011</td>\n",
       "      <td>6.9</td>\n",
       "      <td>7.50</td>\n",
       "      <td>8.70</td>\n",
       "      <td>9.20</td>\n",
       "    </tr>\n",
       "    <tr>\n",
       "      <th>12</th>\n",
       "      <td>2010</td>\n",
       "      <td>6.4</td>\n",
       "      <td>7.00</td>\n",
       "      <td>8.30</td>\n",
       "      <td>8.90</td>\n",
       "    </tr>\n",
       "    <tr>\n",
       "      <th>13</th>\n",
       "      <td>2009</td>\n",
       "      <td>5.7</td>\n",
       "      <td>6.50</td>\n",
       "      <td>8.10</td>\n",
       "      <td>8.60</td>\n",
       "    </tr>\n",
       "    <tr>\n",
       "      <th>14</th>\n",
       "      <td>2008</td>\n",
       "      <td>6.0</td>\n",
       "      <td>6.49</td>\n",
       "      <td>7.80</td>\n",
       "      <td>8.30</td>\n",
       "    </tr>\n",
       "    <tr>\n",
       "      <th>15</th>\n",
       "      <td>2007</td>\n",
       "      <td>6.2</td>\n",
       "      <td>6.94</td>\n",
       "      <td>7.30</td>\n",
       "      <td>7.90</td>\n",
       "    </tr>\n",
       "    <tr>\n",
       "      <th>16</th>\n",
       "      <td>2006</td>\n",
       "      <td>6.5</td>\n",
       "      <td>6.86</td>\n",
       "      <td>6.95</td>\n",
       "      <td>7.50</td>\n",
       "    </tr>\n",
       "    <tr>\n",
       "      <th>17</th>\n",
       "      <td>2005</td>\n",
       "      <td>6.1</td>\n",
       "      <td>6.10</td>\n",
       "      <td>6.80</td>\n",
       "      <td>7.25</td>\n",
       "    </tr>\n",
       "    <tr>\n",
       "      <th>18</th>\n",
       "      <td>2004</td>\n",
       "      <td>5.9</td>\n",
       "      <td>6.12</td>\n",
       "      <td>6.70</td>\n",
       "      <td>7.10</td>\n",
       "    </tr>\n",
       "    <tr>\n",
       "      <th>19</th>\n",
       "      <td>2003</td>\n",
       "      <td>6.3</td>\n",
       "      <td>6.23</td>\n",
       "      <td>6.30</td>\n",
       "      <td>6.80</td>\n",
       "    </tr>\n",
       "    <tr>\n",
       "      <th>20</th>\n",
       "      <td>2002</td>\n",
       "      <td>5.9</td>\n",
       "      <td>5.76</td>\n",
       "      <td>6.30</td>\n",
       "      <td>6.80</td>\n",
       "    </tr>\n",
       "    <tr>\n",
       "      <th>21</th>\n",
       "      <td>2001</td>\n",
       "      <td>5.5</td>\n",
       "      <td>4.87</td>\n",
       "      <td>11.70</td>\n",
       "      <td>12.80</td>\n",
       "    </tr>\n",
       "    <tr>\n",
       "      <th>22</th>\n",
       "      <td>2000</td>\n",
       "      <td>6.9</td>\n",
       "      <td>6.46</td>\n",
       "      <td>11.20</td>\n",
       "      <td>12.60</td>\n",
       "    </tr>\n",
       "    <tr>\n",
       "      <th>23</th>\n",
       "      <td>1999</td>\n",
       "      <td>6.5</td>\n",
       "      <td>6.00</td>\n",
       "      <td>10.70</td>\n",
       "      <td>11.80</td>\n",
       "    </tr>\n",
       "    <tr>\n",
       "      <th>24</th>\n",
       "      <td>1998</td>\n",
       "      <td>6.5</td>\n",
       "      <td>5.48</td>\n",
       "      <td>10.40</td>\n",
       "      <td>11.30</td>\n",
       "    </tr>\n",
       "    <tr>\n",
       "      <th>25</th>\n",
       "      <td>1997</td>\n",
       "      <td>6.4</td>\n",
       "      <td>5.59</td>\n",
       "      <td>10.20</td>\n",
       "      <td>10.90</td>\n",
       "    </tr>\n",
       "    <tr>\n",
       "      <th>26</th>\n",
       "      <td>1996</td>\n",
       "      <td>6.9</td>\n",
       "      <td>5.26</td>\n",
       "      <td>9.80</td>\n",
       "      <td>10.50</td>\n",
       "    </tr>\n",
       "    <tr>\n",
       "      <th>27</th>\n",
       "      <td>1995</td>\n",
       "      <td>6.7</td>\n",
       "      <td>5.02</td>\n",
       "      <td>9.50</td>\n",
       "      <td>10.40</td>\n",
       "    </tr>\n",
       "    <tr>\n",
       "      <th>28</th>\n",
       "      <td>1994</td>\n",
       "      <td>6.6</td>\n",
       "      <td>5.21</td>\n",
       "      <td>9.00</td>\n",
       "      <td>9.80</td>\n",
       "    </tr>\n",
       "    <tr>\n",
       "      <th>29</th>\n",
       "      <td>1993</td>\n",
       "      <td>6.5</td>\n",
       "      <td>5.19</td>\n",
       "      <td>8.80</td>\n",
       "      <td>9.45</td>\n",
       "    </tr>\n",
       "    <tr>\n",
       "      <th>30</th>\n",
       "      <td>1992</td>\n",
       "      <td>5.9</td>\n",
       "      <td>4.89</td>\n",
       "      <td>8.10</td>\n",
       "      <td>8.85</td>\n",
       "    </tr>\n",
       "    <tr>\n",
       "      <th>31</th>\n",
       "      <td>1991</td>\n",
       "      <td>6.4</td>\n",
       "      <td>5.47</td>\n",
       "      <td>7.40</td>\n",
       "      <td>8.50</td>\n",
       "    </tr>\n",
       "    <tr>\n",
       "      <th>32</th>\n",
       "      <td>1990</td>\n",
       "      <td>6.7</td>\n",
       "      <td>5.43</td>\n",
       "      <td>6.95</td>\n",
       "      <td>7.55</td>\n",
       "    </tr>\n",
       "    <tr>\n",
       "      <th>33</th>\n",
       "      <td>1989</td>\n",
       "      <td>6.2</td>\n",
       "      <td>5.12</td>\n",
       "      <td>6.70</td>\n",
       "      <td>7.20</td>\n",
       "    </tr>\n",
       "    <tr>\n",
       "      <th>34</th>\n",
       "      <td>1988</td>\n",
       "      <td>5.7</td>\n",
       "      <td>5.10</td>\n",
       "      <td>6.60</td>\n",
       "      <td>6.85</td>\n",
       "    </tr>\n",
       "    <tr>\n",
       "      <th>35</th>\n",
       "      <td>1987</td>\n",
       "      <td>6.5</td>\n",
       "      <td>5.28</td>\n",
       "      <td>6.35</td>\n",
       "      <td>6.65</td>\n",
       "    </tr>\n",
       "    <tr>\n",
       "      <th>36</th>\n",
       "      <td>1986</td>\n",
       "      <td>6.7</td>\n",
       "      <td>5.38</td>\n",
       "      <td>6.10</td>\n",
       "      <td>6.50</td>\n",
       "    </tr>\n",
       "    <tr>\n",
       "      <th>37</th>\n",
       "      <td>1985</td>\n",
       "      <td>7.1</td>\n",
       "      <td>5.45</td>\n",
       "      <td>5.90</td>\n",
       "      <td>6.30</td>\n",
       "    </tr>\n",
       "    <tr>\n",
       "      <th>38</th>\n",
       "      <td>1984</td>\n",
       "      <td>7.0</td>\n",
       "      <td>4.97</td>\n",
       "      <td>5.75</td>\n",
       "      <td>6.00</td>\n",
       "    </tr>\n",
       "    <tr>\n",
       "      <th>39</th>\n",
       "      <td>1983</td>\n",
       "      <td>6.6</td>\n",
       "      <td>4.58</td>\n",
       "      <td>5.60</td>\n",
       "      <td>5.90</td>\n",
       "    </tr>\n",
       "    <tr>\n",
       "      <th>40</th>\n",
       "      <td>1982</td>\n",
       "      <td>5.8</td>\n",
       "      <td>4.33</td>\n",
       "      <td>5.25</td>\n",
       "      <td>5.60</td>\n",
       "    </tr>\n",
       "    <tr>\n",
       "      <th>41</th>\n",
       "      <td>1981</td>\n",
       "      <td>6.2</td>\n",
       "      <td>4.24</td>\n",
       "      <td>4.80</td>\n",
       "      <td>5.25</td>\n",
       "    </tr>\n",
       "    <tr>\n",
       "      <th>42</th>\n",
       "      <td>1980</td>\n",
       "      <td>5.1</td>\n",
       "      <td>3.84</td>\n",
       "      <td>4.80</td>\n",
       "      <td>4.90</td>\n",
       "    </tr>\n",
       "  </tbody>\n",
       "</table>\n",
       "</div>"
      ],
      "text/plain": [
       "    Year  Visitors (million)  Beer consumption (million liters)  Min price  \\\n",
       "0   2024                 6.7                               7.00      13.60   \n",
       "1   2023                 7.2                               7.20      12.60   \n",
       "2   2022                 5.7                               5.60      12.60   \n",
       "3   2019                 6.3                               7.30      10.80   \n",
       "4   2018                 6.3                               7.50      10.70   \n",
       "5   2017                 6.2                               7.50      10.60   \n",
       "6   2016                 5.6                               6.60      10.40   \n",
       "7   2015                 5.9                               7.30      10.10   \n",
       "8   2014                 6.3                               7.70       9.70   \n",
       "9   2013                 6.4                               6.70       9.40   \n",
       "10  2012                 6.4                               7.40       9.10   \n",
       "11  2011                 6.9                               7.50       8.70   \n",
       "12  2010                 6.4                               7.00       8.30   \n",
       "13  2009                 5.7                               6.50       8.10   \n",
       "14  2008                 6.0                               6.49       7.80   \n",
       "15  2007                 6.2                               6.94       7.30   \n",
       "16  2006                 6.5                               6.86       6.95   \n",
       "17  2005                 6.1                               6.10       6.80   \n",
       "18  2004                 5.9                               6.12       6.70   \n",
       "19  2003                 6.3                               6.23       6.30   \n",
       "20  2002                 5.9                               5.76       6.30   \n",
       "21  2001                 5.5                               4.87      11.70   \n",
       "22  2000                 6.9                               6.46      11.20   \n",
       "23  1999                 6.5                               6.00      10.70   \n",
       "24  1998                 6.5                               5.48      10.40   \n",
       "25  1997                 6.4                               5.59      10.20   \n",
       "26  1996                 6.9                               5.26       9.80   \n",
       "27  1995                 6.7                               5.02       9.50   \n",
       "28  1994                 6.6                               5.21       9.00   \n",
       "29  1993                 6.5                               5.19       8.80   \n",
       "30  1992                 5.9                               4.89       8.10   \n",
       "31  1991                 6.4                               5.47       7.40   \n",
       "32  1990                 6.7                               5.43       6.95   \n",
       "33  1989                 6.2                               5.12       6.70   \n",
       "34  1988                 5.7                               5.10       6.60   \n",
       "35  1987                 6.5                               5.28       6.35   \n",
       "36  1986                 6.7                               5.38       6.10   \n",
       "37  1985                 7.1                               5.45       5.90   \n",
       "38  1984                 7.0                               4.97       5.75   \n",
       "39  1983                 6.6                               4.58       5.60   \n",
       "40  1982                 5.8                               4.33       5.25   \n",
       "41  1981                 6.2                               4.24       4.80   \n",
       "42  1980                 5.1                               3.84       4.80   \n",
       "\n",
       "    Max price  \n",
       "0       15.30  \n",
       "1       14.90  \n",
       "2       13.80  \n",
       "3       11.80  \n",
       "4       11.50  \n",
       "5       10.95  \n",
       "6       10.70  \n",
       "7       10.35  \n",
       "8       10.10  \n",
       "9        9.85  \n",
       "10       9.50  \n",
       "11       9.20  \n",
       "12       8.90  \n",
       "13       8.60  \n",
       "14       8.30  \n",
       "15       7.90  \n",
       "16       7.50  \n",
       "17       7.25  \n",
       "18       7.10  \n",
       "19       6.80  \n",
       "20       6.80  \n",
       "21      12.80  \n",
       "22      12.60  \n",
       "23      11.80  \n",
       "24      11.30  \n",
       "25      10.90  \n",
       "26      10.50  \n",
       "27      10.40  \n",
       "28       9.80  \n",
       "29       9.45  \n",
       "30       8.85  \n",
       "31       8.50  \n",
       "32       7.55  \n",
       "33       7.20  \n",
       "34       6.85  \n",
       "35       6.65  \n",
       "36       6.50  \n",
       "37       6.30  \n",
       "38       6.00  \n",
       "39       5.90  \n",
       "40       5.60  \n",
       "41       5.25  \n",
       "42       4.90  "
      ]
     },
     "execution_count": 122,
     "metadata": {},
     "output_type": "execute_result"
    }
   ],
   "source": [
    "dfbp = pd.read_csv('beer_price.csv')\n",
    "\n",
    "df_total = pd.merge(df, dfbp, on='Year')\n",
    "\n",
    "df_total"
   ]
  },
  {
   "cell_type": "markdown",
   "metadata": {},
   "source": [
    "we don't have anything for years that are not in both datasets"
   ]
  },
  {
   "cell_type": "markdown",
   "metadata": {},
   "source": [
    "j) Until 2001, the beer price is reported in DEM (\"Deutsche Mark\"), the former German currency. \n",
    "Adjust the beer prices (min and max) to give values in EUR.\n",
    "You may assume that 1 EUR = 1.95583 DEM. "
   ]
  },
  {
   "cell_type": "code",
   "execution_count": 123,
   "metadata": {},
   "outputs": [],
   "source": [
    "df_total.loc[df_total['Year'] <= 2001, 'Min price'] /= 1.95583\n",
    "df_total.loc[df_total['Year'] <= 2001, 'Max price'] /= 1.95583"
   ]
  },
  {
   "cell_type": "markdown",
   "metadata": {},
   "source": [
    "k) Compute the mean and variance of \"Min price\" during the period from 2000 to 2007."
   ]
  },
  {
   "cell_type": "code",
   "execution_count": 124,
   "metadata": {},
   "outputs": [
    {
     "data": {
      "text/plain": [
       "4.574560243331111"
      ]
     },
     "execution_count": 124,
     "metadata": {},
     "output_type": "execute_result"
    }
   ],
   "source": [
    "df_ap2 = df_total[df_total['Year'] >= 2000][:]\n",
    "df_calc = df_total[df_total['Year'] < 2008][:]\n",
    "df_calc['Min price'].mean()"
   ]
  },
  {
   "cell_type": "markdown",
   "metadata": {},
   "source": [
    "l) Add a new column to the merged dataframe, describing the relative difference in beer prices\n",
    "between two consecutive years in percent. Plot this difference against \"Year\"."
   ]
  },
  {
   "cell_type": "code",
   "execution_count": 125,
   "metadata": {},
   "outputs": [
    {
     "data": {
      "text/plain": [
       "<Axes: xlabel='Year'>"
      ]
     },
     "execution_count": 125,
     "metadata": {},
     "output_type": "execute_result"
    },
    {
     "data": {
      "image/png": "[encoded data removed]",
      "text/plain": [
       "<Figure size 640x480 with 1 Axes>"
      ]
     },
     "metadata": {},
     "output_type": "display_data"
    }
   ],
   "source": [
    "tab=[df_total['Min price'][i]-df_total['Min price'][i+1] for i in range(0,len(df_total['Min price'])-1)]+[0]\n",
    "df_total['difference']=tab\n",
    "df_total.plot(x='Year', y='difference', kind='line', grid=True)"
   ]
  },
  {
   "cell_type": "markdown",
   "metadata": {},
   "source": [
    "m) Create a bar plot displaying the minimum and maximum prices over the years."
   ]
  },
  {
   "cell_type": "code",
   "execution_count": 126,
   "metadata": {},
   "outputs": [
    {
     "data": {
      "text/plain": [
       "<Axes: xlabel='Year'>"
      ]
     },
     "execution_count": 126,
     "metadata": {},
     "output_type": "execute_result"
    },
    {
     "data": {
      "image/png": "[encoded data removed]",
      "text/plain": [
       "<Figure size 640x480 with 1 Axes>"
      ]
     },
     "metadata": {},
     "output_type": "display_data"
    }
   ],
   "source": [
    "df_total.plot(x='Year', y=['Min price', 'Max price'], kind='bar')"
   ]
  },
  {
   "cell_type": "markdown",
   "metadata": {},
   "source": [
    "n) Compute estimates (lower and upper bound) of the beer revenue and visualize them by bar plot."
   ]
  },
  {
   "cell_type": "code",
   "execution_count": 127,
   "metadata": {},
   "outputs": [
    {
     "data": {
      "image/png": "[encoded data removed]",
      "text/plain": [
       "<Figure size 640x480 with 1 Axes>"
      ]
     },
     "metadata": {},
     "output_type": "display_data"
    }
   ],
   "source": [
    "# Compute lower and upper bound of beer revenue\n",
    "df_total['Revenue Lower Bound'] = df_total['Min price'] * df_total['Beer consumption (million liters)']\n",
    "df_total['Revenue Upper Bound'] = df_total['Max price'] * df_total['Beer consumption (million liters)']\n",
    "\n",
    "# Plot the results\n",
    "df_total.plot(x='Year', y=['Revenue Lower Bound', 'Revenue Upper Bound'], kind='bar', grid=True)\n",
    "plt.ylabel('Revenue (million EUR)')\n",
    "plt.title('Estimated Beer Revenue Over the Years')\n",
    "plt.show()"
   ]
  }
 ],
 "metadata": {
  "kernelspec": {
   "display_name": "Python 3",
   "language": "python",
   "name": "python3"
  },
  "language_info": {
   "codemirror_mode": {
    "name": "ipython",
    "version": 3
   },
   "file_extension": ".py",
   "mimetype": "text/x-python",
   "name": "python",
   "nbconvert_exporter": "python",
   "pygments_lexer": "ipython3",
   "version": "3.11.9"
  }
 },
 "nbformat": 4,
 "nbformat_minor": 4
}
